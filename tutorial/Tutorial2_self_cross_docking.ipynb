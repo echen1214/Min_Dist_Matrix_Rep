{
 "cells": [
  {
   "cell_type": "code",
   "execution_count": 1,
   "metadata": {},
   "outputs": [
    {
     "name": "stderr",
     "output_type": "stream",
     "text": [
      "/opt/miniconda3/envs/dist_analy.py.3.9/lib/python3.9/site-packages/Bio/Application/__init__.py:39: BiopythonDeprecationWarning: The Bio.Application modules and modules relying on it have been deprecated.\n",
      "\n",
      "Due to the on going maintenance burden of keeping command line application\n",
      "wrappers up to date, we have decided to deprecate and eventually remove these\n",
      "modules.\n",
      "\n",
      "We instead now recommend building your command line and invoking it directly\n",
      "with the subprocess module.\n",
      "  warnings.warn(\n",
      "/opt/miniconda3/envs/dist_analy.py.3.9/lib/python3.9/site-packages/Bio/pairwise2.py:278: BiopythonDeprecationWarning: Bio.pairwise2 has been deprecated, and we intend to remove it in a future release of Biopython. As an alternative, please consider using Bio.Align.PairwiseAligner as a replacement, and contact the Biopython developers if you still need the Bio.pairwise2 module.\n",
      "  warnings.warn(\n"
     ]
    }
   ],
   "source": [
    "import os\n",
    "import numpy as np\n",
    "import matplotlib.pyplot as plt\n",
    "import pandas as pd\n",
    "from glob import glob\n",
    "\n",
    "import dist_analy.pca\n",
    "from dist_analy.determine_seq import get_and_align_sequence, get_conserved, get_klifs_res, def_union\n",
    "from dist_analy.util.pdb_info import pdb_csv, get_any_info, pdb_read_csv\n",
    "\n",
    "from docking_poses.crd_utils import sRMSD, get_crd_symmetry_rmsd, save_str, \\\n",
    "        sRMSD_from_str, load_struct, align_lig, docking_accuracy, get_sd_results, get_crd_results, \\\n",
    "        metric_list, metric_list_linf9, metric_list_vina, metric_list_dyn, read_vina, get_pose_cluster_dict\n",
    "\n",
    "%load_ext autoreload\n",
    "%autoreload 2"
   ]
  },
  {
   "cell_type": "markdown",
   "metadata": {},
   "source": [
    "#### load cluster definitions\n",
    "including the receptor only time-split"
   ]
  },
  {
   "cell_type": "code",
   "execution_count": 2,
   "metadata": {},
   "outputs": [],
   "source": [
    "sd_cdk2 = pd.read_csv(\"docking_poses/cdk2_selfdock.csv\", index_col=0)\n"
   ]
  },
  {
   "cell_type": "code",
   "execution_count": 3,
   "metadata": {},
   "outputs": [],
   "source": [
    "ro_pca = pd.read_csv(\"docking_poses/ro_pca.240429.csv\", index_col=0).rename(columns={\"rec_clust\":\"ro_label\"})\n",
    "lo_pca = pd.read_csv(\"docking_poses/lo_pca.240916.csv\", index_col=0).rename(columns={\"label\":\"lo_label\"})\n",
    "ro_ts_pca = pd.read_csv(\"docking_poses/ro_pca.240916.time_split.csv\", index_col=0).rename(columns={\"rec_clust\":\"ro_label\"})\n",
    "\n",
    "lo_pca[\"PDB_chain_LIG\"] = lo_pca.PDB_chain_lig_resnum.str[:10]\n",
    "lo_pca = lo_pca.loc[lo_pca.PDB_chain_LIG.isin(sd_cdk2.PDB_chain_LIG)]"
   ]
  },
  {
   "cell_type": "markdown",
   "metadata": {},
   "source": [
    "#### load docking input files and docking results\n",
    "- the code used to traditional docking self-/cross-docking RMSD/centroid distances is below in the jupyter notebook\n",
    "    - for cross-docking, perform an additional step of all-Ca superimposition before hand \n",
    "- we wrote a script for diffdock and dynbind to evaluate self-/cross-docking RMSD/centroid distances natively \n",
    "- we include the traditional docking self-/cross-docking metric calculations within the jupyter notebook because\n",
    "the workflow for traditional docking included parallelization\n"
   ]
  },
  {
   "cell_type": "code",
   "execution_count": 4,
   "metadata": {},
   "outputs": [],
   "source": [
    "sd_cdk2 = sd_cdk2.merge(ro_pca.rename(columns={\"PDB_chain\":\"PDB_chain_org\"})[[\"PDB_chain_org\", \"ro_label\"]], how=\"left\", on=\"PDB_chain_org\")\\\n",
    "       .merge(lo_pca[[\"PDB_chain_LIG\", \"lo_label\"]], how=\"left\", on=\"PDB_chain_LIG\")\n",
    "sd_cdk2[\"lig_lr_label\"] = list(zip(sd_cdk2.ro_label, sd_cdk2.lo_label))"
   ]
  },
  {
   "cell_type": "code",
   "execution_count": 5,
   "metadata": {},
   "outputs": [],
   "source": [
    "allo_crd = pd.read_csv(\"docking_poses/self_cross_dock.csv\", index_col=0)\n",
    "allo_crd[\"ind\"] = allo_crd.index\n",
    "allo_crd = allo_crd.merge(sd_cdk2[[\"LIG\", \"lig_lr_label\"]], on=[\"LIG\"]).drop_duplicates([\"PDB_chain_LIG\", \"lig_lr_label\"])"
   ]
  },
  {
   "cell_type": "code",
   "execution_count": 6,
   "metadata": {},
   "outputs": [],
   "source": [
    "def get_df(dir_name):\n",
    "    names = np.load(f\"{dir_name}complex_names.npy\",allow_pickle=True)\n",
    "    rmsds = np.load(f\"{dir_name}rmsds.npy\",allow_pickle=True).flatten()\n",
    "    centroid_distances = np.load(f\"{dir_name}centroid_distances.npy\",allow_pickle=True).flatten()\n",
    "    confidences = np.load(f\"{dir_name}confidences.npy\",allow_pickle=True).flatten()\n",
    "\n",
    "    ind = [i for i in range(len(names)) for j in range(1,11)]\n",
    "    names_flat = [i for i in names for j in range(1,11)]\n",
    "    df_out = pd.DataFrame(zip(names_flat, ind, confidences, rmsds, centroid_distances), columns=[\"name\", \"ind\", \"confidence\", \"RMSD\", \"cent_dist\"])\n",
    "    df_out['PDB_chain'] = df_out.name.str.split('-',expand=True)[0]\n",
    "    df_out['LIG'] = df_out.name.str.split('-',expand=True)[1]\n",
    "\n",
    "    df_out=df_out.sort_values('confidence', ascending=False)\\\n",
    "                 .groupby([\"name\", \"ind\"])[df_out.columns]\\\n",
    "                 .apply(lambda group: group.assign(rank=group['confidence'].rank(method='dense', ascending=False).astype(int)))\\\n",
    "                 .reset_index(drop=True)\\\n",
    "                 .drop_duplicates()\n",
    "    \n",
    "    # rank = [j for i in range(len(names)) for j in range(1,11)]\n",
    "    return(df_out)"
   ]
  },
  {
   "cell_type": "code",
   "execution_count": 7,
   "metadata": {},
   "outputs": [],
   "source": [
    "# loading the diffdock-2023 data\n",
    "dd_conf = np.load(\"docking_poses/DiffDock_2023/confidences.npy\")\n",
    "\n",
    "sd_1 = allo_crd.merge(sd_cdk2[[\"PDB_chain_LIG\", \"ref_lig\"]], on=\"PDB_chain_LIG\", how=\"inner\")\n",
    "sd_2 = pd.concat([sd_1[['ind','protein_path', 'ligand', 'PDB_fn', 'PDB', 'PDB_chain', 'LIG','PDB_chain_LIG', 'ref_lig', 'ro_label', 'lo_label']]]*10, ignore_index=True).sort_values([\"ind\"])\n",
    "sd_2['rank'] = np.tile(np.arange(1, 11), len(sd_1))\n",
    "sd_2 = sd_2.sort_values([\"ind\", \"rank\"], ascending=[True, True]).reset_index(drop=True)\n",
    "sd_2[\"confidence\"] = dd_conf[sd_1[\"ind\"],].flatten()\n",
    "sd_2_LRD = sd_2.copy(deep=True)\n",
    "# sd_2_vina = sd_2.copy(deep=True)"
   ]
  },
  {
   "cell_type": "code",
   "execution_count": 8,
   "metadata": {},
   "outputs": [],
   "source": [
    "# load vina data\n",
    "out_path = \"docking_poses/vina/self_cross_dock/\"\n",
    "sd_2_vina = []\n",
    "\n",
    "for _, row in sd_1.iterrows():\n",
    "    i = row.ind\n",
    "    ref_lig = row.ref_lig\n",
    "    lig_fns = sorted(glob(f'{out_path}/index{i}/*_*.pdbqt'), key=lambda x: int(os.path.basename(x).split('.')[0].split('_')[1]))\n",
    "    for lig in lig_fns:\n",
    "        row1 = row.copy()\n",
    "        x = int(os.path.basename(lig).split('.')[0].split('_')[1])\n",
    "        RMSD, cent_dist = sRMSD(ref_lig, lig, mol2_type=\"pdbqt\")\n",
    "        row1[\"conf\"]=x\n",
    "        row1[\"RMSD\"]=RMSD\n",
    "        row1[\"cent_dist\"]=cent_dist\n",
    "        sd_2_vina.append(row1.to_dict())\n",
    "\n",
    "sd_2_vina = pd.DataFrame.from_records(sd_2_vina) \n",
    "vina = pd.read_csv(\"docking_poses/vina/scores.1.csv\")\n",
    "vina = vina.sort_values('pVina', ascending=False)\\\n",
    "         .groupby([\"PDB_chain\",\"LIG\"])[vina.columns]\\\n",
    "         .apply(lambda group: group.assign(rank=group['pVina'].rank(method='dense', ascending=False).astype(int)))\\\n",
    "         .reset_index(drop=True)\n",
    "sd_2_vina = sd_2_vina.merge(vina.rename(columns={\"conf_id\":\"conf\"})[[\"ind\", \"conf\", \"pVina\", \"conf_rank\", \"rank\"]], on=[\"ind\", \"conf\"], how=\"left\")"
   ]
  },
  {
   "cell_type": "code",
   "execution_count": 9,
   "metadata": {},
   "outputs": [],
   "source": [
    "# load lin_f9 data\n",
    "out_path = \"docking_poses/lin_f9/self_cross_dock/\"\n",
    "sd_2_linf9 = []\n",
    "\n",
    "for _, row in sd_1.iterrows():\n",
    "    i = row.ind\n",
    "    ref_lig = row.ref_lig\n",
    "    lig_fns = sorted(glob(f'{out_path}/index{i}/*_*.pdbqt'), key=lambda x: int(os.path.basename(x).split('.')[0].split('_')[1]))\n",
    "    for lig in lig_fns:\n",
    "        row1 = row.copy()\n",
    "        x = int(os.path.basename(lig).split('.')[0].split('_')[1])\n",
    "        RMSD, cent_dist = sRMSD(ref_lig, lig, mol2_type=\"pdbqt\")\n",
    "        row1[\"conf\"]=x\n",
    "        row1[\"RMSD\"]=RMSD\n",
    "        row1[\"cent_dist\"]=cent_dist\n",
    "        sd_2_linf9.append(row1.to_dict())\n",
    "\n",
    "sd_2_linf9 = pd.DataFrame.from_records(sd_2_linf9) \n",
    "linf9 = pd.read_csv(\"docking_poses/lin_f9/scores.1.csv\")\n",
    "linf9 = linf9.sort_values('pLin_F9', ascending=False)\\\n",
    "         .groupby([\"PDB_chain\",\"LIG\"])[linf9.columns]\\\n",
    "         .apply(lambda group: group.assign(rank=group['pLin_F9'].rank(method='dense', ascending=False).astype(int)))\\\n",
    "         .reset_index(drop=True)\n",
    "sd_2_linf9 = sd_2_linf9.merge(linf9.rename(columns={\"conf_id\":\"conf\"})[[\"ind\", \"conf\", \"pLin_F9\", \"conf_rank\", \"rank\"]], on=[\"ind\", \"conf\"], how=\"left\")"
   ]
  },
  {
   "cell_type": "code",
   "execution_count": 10,
   "metadata": {},
   "outputs": [],
   "source": [
    "## get DiffDock and DiffDock-Lin_F9 LRD data\n",
    "rmsd_l, cent_dist_l = [], [] \n",
    "rmsd_l_LRD, cent_dist_l_LRD = [], []\n",
    "\n",
    "out_path = \"docking_poses/DiffDock_2023/self_cross_dock/\"\n",
    "out_path_LRD = \"docking_poses/DiffDock_LRD/self_cross_dock/\"\n",
    "\n",
    "for i, ref_lig in zip(sd_1.ind, sd_1.ref_lig):\n",
    "    lig_fns = sorted(glob(f'{out_path}/index{i}/rank*_*.sdf'), key=lambda x: int(os.path.basename(x).split('_')[0].split('.')[0][4:]))\n",
    "    for lig in lig_fns:\n",
    "        RMSD, cent_dist = sRMSD(ref_lig, lig)\n",
    "        rmsd_l.append(RMSD)\n",
    "        cent_dist_l.append(cent_dist)\n",
    "\n",
    "    lig_fns = sorted(glob(f'{out_path_LRD}/index{i}/rank*.pdb'), key=lambda x: int(os.path.basename(x).split('_')[0].split('.')[0][4:]))\n",
    "    for lig in lig_fns:\n",
    "        RMSD, cent_dist = sRMSD(ref_lig, lig)\n",
    "        rmsd_l_LRD.append(RMSD)\n",
    "        cent_dist_l_LRD.append(cent_dist)\n",
    "\n",
    "sd_2[\"RMSD\"] = rmsd_l\n",
    "sd_2[\"cent_dist\"] = cent_dist_l\n",
    "sd_2_LRD[\"RMSD\"] = rmsd_l_LRD\n",
    "sd_2_LRD[\"cent_dist\"] = cent_dist_l_LRD"
   ]
  },
  {
   "cell_type": "code",
   "execution_count": 11,
   "metadata": {},
   "outputs": [],
   "source": [
    "sd_cdk2_tmp = sd_cdk2.drop_duplicates([\"lig_lr_label\", \"LIG\"])"
   ]
  },
  {
   "cell_type": "code",
   "execution_count": 12,
   "metadata": {},
   "outputs": [],
   "source": [
    "dd_S_dir = \"docking_poses/DiffDock-S/\"\n",
    "df_S = get_df(dd_S_dir)\n",
    "\n",
    "df_S[\"PDB_chain_LIG\"] = df_S.PDB_chain.astype(str) + \"_\" + df_S.LIG.astype(str)\n",
    "df_S[\"ro_label\"] = df_S.PDB_chain.apply(lambda x: ro_pca[ro_pca.PDB_chain==x].ro_label.values[0])\n",
    "df_S = df_S.merge(lo_pca[[\"LIG\", \"lo_label\"]].drop_duplicates(\"LIG\"), how=\"left\", on=\"LIG\") #.LIG.apply(lambda x: lo_pca[lo_pca.LIG==x].lo_label.values[0])\n",
    "df_S[\"lig_lr_label\"] = df_S.LIG.apply(lambda x: sd_cdk2_tmp[sd_cdk2_tmp.LIG==x].lig_lr_label.values[0] )\n",
    "df_S.set_index([\"name\", \"ind\", \"PDB_chain\", \"LIG\", \"rank\"])\n",
    "df_S_sd = df_S[df_S.PDB_chain_LIG.isin(sd_cdk2.PDB_chain_LIG)]"
   ]
  },
  {
   "cell_type": "code",
   "execution_count": 13,
   "metadata": {},
   "outputs": [],
   "source": [
    "dd_L_dir = \"docking_poses/DiffDock-L/\"\n",
    "df_L = get_df(dd_L_dir)\n",
    "df_L[\"PDB_chain_LIG\"] = df_L.PDB_chain.astype(str) + \"_\" + df_L.LIG.astype(str)\n",
    "df_L[\"ro_label\"] = df_L.PDB_chain.apply(lambda x: ro_pca[ro_pca.PDB_chain==x].ro_label.values[0])\n",
    "df_L = df_L.merge(lo_pca[[\"LIG\", \"lo_label\"]].drop_duplicates(\"LIG\"), how=\"left\", on=\"LIG\") #.LIG.apply(lambda x: lo_pca[lo_pca.LIG==x].lo_label.values[0])\n",
    "df_L[\"lig_lr_label\"] = df_L.LIG.apply(lambda x: sd_cdk2_tmp[sd_cdk2_tmp.LIG==x].lig_lr_label.values[0] )\n",
    "df_L.set_index([\"name\", \"ind\", \"PDB_chain\", \"LIG\", \"rank\"])\n",
    "df_L_sd = df_L[df_L.PDB_chain_LIG.isin(sd_cdk2.PDB_chain_LIG)]\n"
   ]
  },
  {
   "cell_type": "code",
   "execution_count": 14,
   "metadata": {},
   "outputs": [],
   "source": [
    "df_dyn = pd.read_csv(\"docking_poses/DynBind/complete_affinity_prediction.csv\", index_col=0)\n",
    "\n",
    "df_dyn[\"PDB_chain_LIG\"] = df_dyn.PDB_chain.astype(str) + \"_\" + df_dyn.LIG.astype(str)\n",
    "df_dyn[\"ro_label\"] = df_dyn.PDB_chain.apply(lambda x: ro_pca[ro_pca.PDB_chain==x].ro_label.values[0])\n",
    "df_dyn = df_dyn.merge(lo_pca[[\"LIG\", \"lo_label\"]].drop_duplicates(\"LIG\"), how=\"left\", on=\"LIG\") #.LIG.apply(lambda x: lo_pca[lo_pca.LIG==x].lo_label.values[0])\n",
    "df_dyn[\"lig_lr_label\"] = df_dyn.LIG.apply(lambda x: sd_cdk2_tmp[sd_cdk2_tmp.LIG==x].lig_lr_label.values[0] )\n",
    "df_dyn_sd = df_dyn[df_dyn.PDB_chain_LIG.isin(sd_cdk2.PDB_chain_LIG)]"
   ]
  },
  {
   "cell_type": "markdown",
   "metadata": {},
   "source": [
    "## calculate self docking results\n",
    "- report the fraction of complexes predicted successfully, organized by the binding mode"
   ]
  },
  {
   "cell_type": "code",
   "execution_count": 15,
   "metadata": {},
   "outputs": [],
   "source": [
    "vina_sd_results = get_sd_results(sd_2_vina, metric_list_vina)\n",
    "linf9_sd_results = get_sd_results(sd_2_linf9, metric_list_linf9)\n",
    "dd_sd_results= get_sd_results(sd_2, metric_list)\n",
    "ddS_sd_results = get_sd_results(df_S_sd, metric_list)\n",
    "ddL_sd_results = get_sd_results(df_L_sd, metric_list)\n",
    "dyn_sd_results = get_sd_results(df_dyn_sd, metric_list_dyn)\n",
    "ddLRD_sd_results= get_sd_results(sd_2_LRD, metric_list)"
   ]
  },
  {
   "cell_type": "code",
   "execution_count": 16,
   "metadata": {},
   "outputs": [
    {
     "name": "stdout",
     "output_type": "stream",
     "text": [
      "1.000 & 0.375 & 0.250\n",
      "1.000 & 0.000 & 0.500\n",
      "0.000 & 1.000 & 1.000\n",
      "0.000 & 1.000 & 1.000\n",
      "0.000 & 1.000 & 1.000\n",
      "0.000 & 0.875 & 1.000\n",
      "0.429 & 0.375 & 0.500\n"
     ]
    }
   ],
   "source": [
    "metric = \"all_RMSD_lt2\"\n",
    "binding_modes = [(1,1), (1,0), (2,0)]\n",
    "for sd in [vina_sd_results[metric], linf9_sd_results[metric], \\\n",
    "            dd_sd_results[metric], \\\n",
    "            ddL_sd_results[metric], ddS_sd_results[metric], \\\n",
    "            dyn_sd_results[metric],\\\n",
    "            ddLRD_sd_results[metric] ]:\n",
    "\n",
    "    print(\" & \".join([f\"{float(sd[j]['average']):0.3f}\" for j in binding_modes]))"
   ]
  },
  {
   "cell_type": "code",
   "execution_count": 17,
   "metadata": {},
   "outputs": [
    {
     "name": "stdout",
     "output_type": "stream",
     "text": [
      "Top-1/-5 ranked results\n",
      "1.00 & 1.00 & 0.38 & 0.38 & 0.25 & 0.25\n",
      "1.00 & 1.00 & 0.00 & 0.00 & 0.50 & 0.50\n",
      "0.00 & 0.00 & 1.00 & 1.00 & 0.88 & 0.88\n",
      "0.00 & 0.00 & 1.00 & 1.00 & 1.00 & 1.00\n",
      "0.00 & 0.00 & 1.00 & 0.88 & 1.00 & 0.88\n",
      "0.00 & 0.00 & 0.88 & 0.75 & 1.00 & 0.88\n",
      "0.43 & 0.14 & 0.38 & 0.12 & 0.50 & 0.50\n"
     ]
    }
   ],
   "source": [
    "print(\"Top-1/-5 ranked results\")\n",
    "\n",
    "binding_modes = [(1,1), (1,0), (2,0)]\n",
    "for sd_res in [vina_sd_results, linf9_sd_results, \\\n",
    "            dd_sd_results, \\\n",
    "            ddL_sd_results, ddS_sd_results, \\\n",
    "            dyn_sd_results,\\\n",
    "            ddLRD_sd_results ]:\n",
    "\n",
    "    print(\" & \".join([f\"{float(sd_res[metric][j]['average']):0.2f}\" for j in binding_modes for metric in [\"top5_RMSD_lt2\", \"top1_RMSD_lt2\"]]))"
   ]
  },
  {
   "attachments": {},
   "cell_type": "markdown",
   "metadata": {},
   "source": [
    "## crd\n",
    "- below is example code for the superimposition\n",
    "- jupyter notebook code for loading the x-ray structures\n",
    "- align x-ray structures to the docked complexes using all-ca\n",
    "- calculate RMSD and centroid distance\n",
    "- report the fraction of complexes predicted successfully, organized by the binding mode and time-split receptor conformation\n"
   ]
  },
  {
   "cell_type": "code",
   "execution_count": 18,
   "metadata": {},
   "outputs": [],
   "source": [
    "pdb_path = \"docking_poses/receptor/CDK2_fastH/\"\n",
    "lig_path = \"datafiles/lig_pdb_all/\"\n",
    "all_model_path = \"docking_poses/receptor/CDK2_allmodel\"\n",
    "cdk2_all_model = ['1FIN_A', '1FIN_C', '1FVV_A', '1FVV_C', '1JST_A', '1JST_C', '1PF8_A', '1VYW_A', '1VYW_C', '1YKR_A', '2B54_A', '2BKZ_A', '2BPM_A', '2BPM_C', '2C4G_C', '2EXM_A', '2G9X_A', '2WIH_A', '2WIH_C', '2WPA_A', '2WPA_C', '2WXV_A', '2WXV_C', '3DDP_C', '3F5X_C', '3PXF_A', '3PXZ_A', '3PY1_A', '4BCO_A', '4BCP_A', '4CFV_A', '4CFW_A', '4CFX_A', '4CFX_C', '4EON_A', '4EZ7_A', '4FX3_A', '4FX3_C', '4GCJ_A', '4KD1_A', '5CYI_A', '5IF1_A', '6P3W_A', '6YL6_A', '7E34_A', '7RWF_A']\n",
    "dataset_dir = \"datafiles/crd_dataset/\"\n",
    "\n",
    "unique_lig = allo_crd.LIG.unique()\n",
    "unique_PDB_chain = allo_crd.PDB_fn.unique()\n",
    "\n",
    "lig_dir_all = []\n",
    "for lig in unique_lig:\n",
    "    # tup: (pdb_name, pdb_chain, lig_name, lig_chain, pdb_lig_dir)\n",
    "    # will need to change this when aligning peptide complexes\n",
    "    lig_dir_all.extend([(os.path.basename(ldir)[:6], os.path.basename(ldir)[5], \\\n",
    "        os.path.basename(ldir)[7:], os.path.basename(ldir)[5], ldir) for ldir in glob(f\"{dataset_dir}/*{lig}*\")])\n",
    "        \n",
    "# load pdb and ligand structures into data object\n",
    "samp_pdb_dict = load_struct([(glob(f\"{lig_dir}/{pdb}.pdb\")[0], pdb_chain, f\"{pdb}_{lig}\") for (pdb, pdb_chain, lig, _, lig_dir) in lig_dir_all])\n",
    "samp_lig_dict = load_struct([(glob(f\"{lig_dir}/{pdb}_{lig}.pdb\")[0], lig_chain, f\"{pdb}_{lig}\") for (pdb, _, lig, lig_chain, lig_dir) in lig_dir_all])\n",
    "\n",
    "modeller_pdb_list = [(f'{all_model_path}/{pdb[:6]}.pdb' if pdb in cdk2_all_model else f'{pdb_path}/{pdb}.pdb', pdb[5], pdb) for pdb in unique_PDB_chain]\n",
    "ref_pdb_dict = load_struct(modeller_pdb_list)\n"
   ]
  },
  {
   "cell_type": "code",
   "execution_count": 19,
   "metadata": {},
   "outputs": [],
   "source": [
    "from copy import deepcopy \n",
    "\n",
    "## for each structure, align all other structures and output the aligned ligand with a string\n",
    "align_ref = {} \n",
    "for ref, ref_dict in ref_pdb_dict.items():\n",
    "    t_ref = deepcopy(ref_dict['struct'])\n",
    "    for samp, samp_dict in samp_pdb_dict.items():\n",
    "        lig = samp.split('_')[-2]\n",
    "        res_num = samp.split('_')[-1]\n",
    "        samp_pdb = samp[:6]\n",
    "        t_samp = deepcopy(samp_dict['struct'])\n",
    "        s_lig = deepcopy(samp_lig_dict[samp]['struct'])\n",
    "        out_str = align_lig(t_ref, t_samp, s_lig, samp_lig_dict[samp]['chain'], range(1,299))\n",
    "\n",
    "        # we are aligning the samp structure to ref...\n",
    "        # sometimes we will have multiple complexes with the same ligand\n",
    "        # add the outputted ligand to the complex\n",
    "        try:\n",
    "            align_ref[f\"{ref}-{lig}\"].update({f\"{samp}\": out_str})\n",
    "        except KeyError:\n",
    "            # dict_x[key] = [value]\n",
    "            align_ref[f\"{ref}-{lig}\"] = {f\"{samp}\": out_str}"
   ]
  },
  {
   "cell_type": "code",
   "execution_count": 20,
   "metadata": {},
   "outputs": [],
   "source": [
    "allo_crd = allo_crd.loc[allo_crd.PDB_chain.isin(ro_ts_pca.PDB_chain)].reset_index(drop=True)\n",
    "\n",
    "allo_crd_1 = allo_crd[~allo_crd.PDB_chain_LIG.isin(sd_cdk2.PDB_chain_LIG)]\n",
    "allo_crd_2 = pd.concat([allo_crd_1[['ind','protein_path', 'ligand', 'PDB_fn', 'PDB', 'PDB_chain', 'LIG','PDB_chain_LIG', 'ro_label', 'lo_label', \"lig_lr_label\"]]]*10, ignore_index=True).sort_values([\"ind\"])\n",
    "allo_crd_2['rank'] = np.tile(np.arange(1, 11), len(allo_crd_1))\n",
    "allo_crd_2 = allo_crd_2.sort_values([\"ind\", \"rank\"], ascending=[True, True]).reset_index(drop=True)\n",
    "allo_crd_2[\"confidence\"] = dd_conf[allo_crd_1[\"ind\"],].flatten()\n",
    "allo_crd_2_LRD = allo_crd_2.copy()"
   ]
  },
  {
   "cell_type": "code",
   "execution_count": 21,
   "metadata": {},
   "outputs": [],
   "source": [
    "out_path = \"docking_poses/vina/self_cross_dock/\"\n",
    "crd_vina_1 = []\n",
    "\n",
    "for _, row in allo_crd_1.iterrows():\n",
    "    i = row.ind\n",
    "    pdb_fn = row.PDB_fn\n",
    "    lig = row.LIG\n",
    "\n",
    "    lig_fns = sorted(glob(f'{out_path}/index{i}/*_*.pdbqt'), \\\n",
    "                     key=lambda x: int(os.path.basename(x).split('.')[0].split('_')[1]))\n",
    "    lig_fn_conf = [int(os.path.basename(lig_fn).split('.')[0].split('_')[1]) for lig_fn in lig_fns]\n",
    "    vina_out_str = [read_vina(lig_fn) for lig_fn in lig_fns]\n",
    "\n",
    "    for conf_out_str, conf in zip(vina_out_str, lig_fn_conf):\n",
    "        row1 = row.copy()\n",
    "        for conf_rank, rank_out_str in enumerate(conf_out_str):\n",
    "            tmp_rmsd, tmp_cent_dist = [], []\n",
    "            for res_num, out_str in align_ref[f'{pdb_fn}-{lig}'].items():\n",
    "                RMSD, cent_dist = sRMSD(\"\".join(rank_out_str), out_str, mol1_type=\"pdbqt_out_str\", mol2_type=\"out_str\")\n",
    "                tmp_rmsd.append(RMSD)\n",
    "                tmp_cent_dist.append(cent_dist)\n",
    "            row1[\"conf\"]=conf\n",
    "            row1[\"conf_rank\"]=conf_rank+1\n",
    "            row1[\"RMSD\"]=min(tmp_rmsd)\n",
    "            row1[\"cent_dist\"]=min(tmp_cent_dist)\n",
    "            crd_vina_1.append(row1.to_dict())\n",
    "\n",
    "crd_vina_1 = pd.DataFrame.from_records(crd_vina_1)\n",
    "vina = pd.read_csv(\"docking_poses/vina/scores.1.csv\")\n",
    "vina = vina.sort_values('pVina', ascending=False)\\\n",
    "         .groupby([\"PDB_chain\",\"LIG\"])[vina.columns]\\\n",
    "         .apply(lambda group: group.assign(rank=group['pVina'].rank(method='dense', ascending=False).astype(int)))\\\n",
    "         .reset_index(drop=True)\n",
    "crd_vina_1 = crd_vina_1.merge(vina.rename(columns={\"conf_id\":\"conf\"})[[\"ind\", \"conf\", \"pVina\", \"conf_rank\", \"rank\"]], on=[\"ind\", \"conf\", \"conf_rank\"], how=\"left\")"
   ]
  },
  {
   "cell_type": "code",
   "execution_count": 22,
   "metadata": {},
   "outputs": [],
   "source": [
    "out_path = \"docking_poses/lin_f9/self_cross_dock/\"\n",
    "crd_linf9_1 = []\n",
    "\n",
    "for _, row in allo_crd_1.iterrows():\n",
    "    i = row.ind\n",
    "    pdb_fn = row.PDB_fn\n",
    "    lig = row.LIG\n",
    "\n",
    "    lig_fns = sorted(glob(f'{out_path}/index{i}/*_*.pdbqt'), \\\n",
    "                     key=lambda x: int(os.path.basename(x).split('.')[0].split('_')[1]))\n",
    "    lig_fn_conf = [int(os.path.basename(lig_fn).split('.')[0].split('_')[1]) for lig_fn in lig_fns]\n",
    "    linf9_out_str = [read_vina(lig_fn) for lig_fn in lig_fns]\n",
    "\n",
    "    for conf_out_str, conf in zip(linf9_out_str, lig_fn_conf):\n",
    "        row1 = row.copy()\n",
    "        for conf_rank, rank_out_str in enumerate(conf_out_str):\n",
    "            tmp_rmsd, tmp_cent_dist = [], []\n",
    "            for res_num, out_str in align_ref[f'{pdb_fn}-{lig}'].items():\n",
    "                RMSD, cent_dist = sRMSD(\"\".join(rank_out_str), out_str, mol1_type=\"pdbqt_out_str\", mol2_type=\"out_str\")\n",
    "                tmp_rmsd.append(RMSD)\n",
    "                tmp_cent_dist.append(cent_dist)\n",
    "            row1[\"conf\"]=conf\n",
    "            row1[\"conf_rank\"]=conf_rank+1\n",
    "            row1[\"RMSD\"]=min(tmp_rmsd)\n",
    "            row1[\"cent_dist\"]=min(tmp_cent_dist)\n",
    "            crd_linf9_1.append(row1.to_dict())\n",
    "\n",
    "crd_linf9_1 = pd.DataFrame.from_records(crd_linf9_1) \n",
    "linf9 = pd.read_csv(\"docking_poses/lin_f9/scores.1.csv\")\n",
    "linf9 = linf9.sort_values('pLin_F9', ascending=False)\\\n",
    "         .groupby([\"PDB_chain\",\"LIG\"])[linf9.columns]\\\n",
    "         .apply(lambda group: group.assign(rank=group['pLin_F9'].rank(method='dense', ascending=False).astype(int)))\\\n",
    "         .reset_index(drop=True)\n",
    "crd_linf9_1 = crd_linf9_1.merge(linf9.rename(columns={\"conf_id\":\"conf\"})[[\"ind\", \"conf\", \"pLin_F9\", \"conf_rank\", \"rank\"]], on=[\"ind\", \"conf\", \"conf_rank\"], how=\"left\")"
   ]
  },
  {
   "cell_type": "code",
   "execution_count": 23,
   "metadata": {},
   "outputs": [],
   "source": [
    "out_path = \"docking_poses/vina/self_cross_dock/\"\n",
    "crd_vina = []\n",
    "\n",
    "for _, row in allo_crd_1.iterrows():\n",
    "    i = row.ind\n",
    "    pdb_fn = row.PDB_fn\n",
    "    lig = row.LIG\n",
    "\n",
    "    lig_fns = sorted(glob(f'{out_path}/index{i}/*_*.pdbqt'), key=lambda x: int(os.path.basename(x).split('.')[0].split('_')[1]))\n",
    "\n",
    "    for lig_fn in lig_fns:\n",
    "        tmp_rmsd, tmp_cent_dist = [], []\n",
    "        row1 = row.copy()\n",
    "        x = int(os.path.basename(lig_fn).split('.')[0].split('_')[1])\n",
    "        for res_num, out_str in align_ref[f'{pdb_fn}-{lig}'].items():\n",
    "            RMSD, cent_dist = sRMSD(lig_fn, out_str, mol1_type=\"pdbqt\", mol2_type=\"out_str\")\n",
    "            tmp_rmsd.append(RMSD)\n",
    "            tmp_cent_dist.append(cent_dist)\n",
    "        row1[\"conf\"]=x\n",
    "        row1[\"RMSD\"]=min(tmp_rmsd)\n",
    "        row1[\"cent_dist\"]=min(tmp_cent_dist)\n",
    "        crd_vina.append(row1.to_dict())\n",
    "\n",
    "crd_vina = pd.DataFrame.from_records(crd_vina)\n",
    "vina = pd.read_csv(\"docking_poses/vina/scores.1.csv\")\n",
    "crd_vina = crd_vina.merge(vina.rename(columns={\"conf_id\":\"conf\"})[[\"ind\", \"conf\", \"pVina\"]], on=[\"ind\", \"conf\"], how=\"left\")"
   ]
  },
  {
   "cell_type": "code",
   "execution_count": 24,
   "metadata": {},
   "outputs": [],
   "source": [
    "out_path = \"docking_poses/lin_f9/self_cross_dock/\"\n",
    "crd_linf9 = []\n",
    "\n",
    "for _, row in allo_crd_1.iterrows():\n",
    "    i = row.ind\n",
    "    pdb_fn = row.PDB_fn\n",
    "    lig = row.LIG\n",
    "\n",
    "    lig_fns = sorted(glob(f'{out_path}/index{i}/*_*.pdbqt'), key=lambda x: int(os.path.basename(x).split('.')[0].split('_')[1]))\n",
    "\n",
    "    for lig_fn in lig_fns:\n",
    "        tmp_rmsd, tmp_cent_dist = [], []\n",
    "        row1 = row.copy()\n",
    "        x = int(os.path.basename(lig_fn).split('.')[0].split('_')[1])\n",
    "        for res_num, out_str in align_ref[f'{pdb_fn}-{lig}'].items():\n",
    "            RMSD, cent_dist = sRMSD(lig_fn, out_str, mol1_type=\"pdbqt\", mol2_type=\"out_str\")\n",
    "            tmp_rmsd.append(RMSD)\n",
    "            tmp_cent_dist.append(cent_dist)\n",
    "        row1[\"conf\"]=x\n",
    "        row1[\"RMSD\"]=min(tmp_rmsd)\n",
    "        row1[\"cent_dist\"]=min(tmp_cent_dist)\n",
    "        crd_linf9.append(row1.to_dict())\n",
    "\n",
    "crd_linf9 = pd.DataFrame.from_records(crd_linf9) \n",
    "linf9 = pd.read_csv(\"docking_poses/lin_f9/scores.1.csv\")\n",
    "crd_linf9 = crd_linf9.merge(linf9.rename(columns={\"conf_id\":\"conf\"})[[\"ind\", \"conf\", \"pLin_F9\"]], on=[\"ind\", \"conf\"], how=\"left\")"
   ]
  },
  {
   "cell_type": "code",
   "execution_count": 25,
   "metadata": {},
   "outputs": [],
   "source": [
    "out_path = \"docking_poses/DiffDock_2023/self_cross_dock/\"\n",
    "\n",
    "# crd_stats, crd_LRD_stats = [], []s\n",
    "rmsd_l, cent_dist_l = [], []\n",
    "\n",
    "for _, row in allo_crd_1.iterrows():\n",
    "    i = row.ind\n",
    "    pdb_fn = row.PDB_fn\n",
    "    lig = row.LIG\n",
    "\n",
    "    lig_fns = sorted(glob(f'{out_path}/index{i}/rank*_*.sdf'), key=lambda x: int(os.path.basename(x).split('_')[0].split('.')[0][4:]))\n",
    "\n",
    "    for lig_fn in lig_fns:\n",
    "        tmp_rmsd, tmp_cent_dist = [], []\n",
    "        for res_num, out_str in align_ref[f'{pdb_fn}-{lig}'].items():\n",
    "            RMSD, cent_dist = sRMSD_from_str(lig_fn, out_str)\n",
    "            tmp_rmsd.append(RMSD)\n",
    "            tmp_cent_dist.append(cent_dist)\n",
    "        rmsd_l.append(min(tmp_rmsd))\n",
    "        cent_dist_l.append(min(tmp_cent_dist))\n",
    "    #     break\n",
    "    # break\n",
    "allo_crd_2[\"RMSD\"] = rmsd_l\n",
    "allo_crd_2[\"cent_dist\"] = cent_dist_l"
   ]
  },
  {
   "cell_type": "code",
   "execution_count": 26,
   "metadata": {},
   "outputs": [],
   "source": [
    "out_path_LRD = \"docking_poses/DiffDock_LRD/self_cross_dock/\"\n",
    "rmsd_l_LRD, cent_dist_l_LRD = [], []\n",
    "\n",
    "for _, row in allo_crd_1.iterrows():\n",
    "    i = row.ind\n",
    "    pdb_fn = row.PDB_fn\n",
    "    lig = row.LIG\n",
    "\n",
    "    lig_fns = sorted(glob(f'{out_path_LRD}/index{i}/rank*.pdb'), key=lambda x: int(os.path.basename(x).split('_')[0].split('.')[0][4:]))\n",
    "\n",
    "    for lig_fn in lig_fns:\n",
    "        tmp_rmsd, tmp_cent_dist = [], []\n",
    "        for res_num, out_str in align_ref[f'{pdb_fn}-{lig}'].items():\n",
    "            try:\n",
    "                RMSD, cent_dist = sRMSD_from_str(lig_fn, out_str)\n",
    "                tmp_rmsd.append(RMSD)\n",
    "                tmp_cent_dist.append(cent_dist)\n",
    "            except:\n",
    "                print(\"failed on:\", pdb_fn, lig_fn)\n",
    "                tmp_rmsd.append(None)\n",
    "                tmp_cent_dist.append(None)\n",
    "        rmsd_l_LRD.append(min(tmp_rmsd))\n",
    "        cent_dist_l_LRD.append(min(tmp_cent_dist))\n",
    "\n",
    "allo_crd_2_LRD[\"RMSD\"] = rmsd_l_LRD\n",
    "allo_crd_2_LRD[\"cent_dist\"] = cent_dist_l_LRD\n",
    "\n",
    "lrd_linf9 = pd.read_csv(\"docking_poses/DiffDock_LRD/scores.csv\", index_col=0)\n",
    "allo_crd_2_LRD = allo_crd_2_LRD.merge(lrd_linf9.rename(columns={\"index\":\"ind\"})[[\"ind\", \"rank\", \"pLin_F9_DD_LRD\"]], on=[\"ind\", \"rank\"], how=\"left\")"
   ]
  },
  {
   "cell_type": "code",
   "execution_count": 27,
   "metadata": {},
   "outputs": [],
   "source": [
    "df_S = df_S.loc[df_S.PDB_chain.isin(ro_ts_pca.PDB_chain)].reset_index(drop=True)\n",
    "df_S_crd = df_S[~df_S.PDB_chain_LIG.isin(sd_cdk2.PDB_chain_LIG)]\n"
   ]
  },
  {
   "cell_type": "code",
   "execution_count": 28,
   "metadata": {},
   "outputs": [],
   "source": [
    "df_L = df_L.loc[df_L.PDB_chain.isin(ro_ts_pca.PDB_chain)].reset_index(drop=True)\n",
    "df_L_crd = df_L[~df_L.PDB_chain_LIG.isin(sd_cdk2.PDB_chain_LIG)]\n"
   ]
  },
  {
   "cell_type": "code",
   "execution_count": 29,
   "metadata": {},
   "outputs": [],
   "source": [
    "df_dyn = df_dyn.loc[df_dyn.PDB_chain.isin(ro_ts_pca.PDB_chain)].reset_index(drop=True)\n",
    "df_dyn_crd = df_dyn[~df_dyn.PDB_chain_LIG.isin(sd_cdk2.PDB_chain_LIG)]\n"
   ]
  },
  {
   "cell_type": "code",
   "execution_count": 30,
   "metadata": {},
   "outputs": [
    {
     "name": "stdout",
     "output_type": "stream",
     "text": [
      "0.929 & 0.667 & 0.984 & 0.873 & 0.708 & 1.000\n",
      "0.911 & 0.958 & 1.000 & 0.952 & 0.792 & 1.000\n",
      "---\n",
      "0.000 & 0.762 & 0.000\n",
      "0.089 & 0.143 & 0.000\n",
      "~~~~~~~\n",
      "0.91 & 0.84 & 0.42 & 0.33 & 0.98 & 0.97 & 0.87 & 0.86 & 0.62 & 0.50 & 1.00 & 0.95\n",
      "0.82 & 0.77 & 0.88 & 0.62 & 0.98 & 0.95 & 0.95 & 0.84 & 0.71 & 0.62 & 1.00 & 1.00\n",
      "---\n",
      "0.00 & 0.00 & 0.67 & 0.43 & 0.00 & 0.00\n",
      "0.05 & 0.02 & 0.05 & 0.05 & 0.00 & 0.00\n"
     ]
    }
   ],
   "source": [
    "vina_crd_results_1 = get_crd_results(crd_vina_1, metric_list_vina)\n",
    "linf9_crd_results_1 = get_crd_results(crd_linf9_1, metric_list_linf9)\n",
    "\n",
    "metric = \"all_cent_dist_lt5\"\n",
    "binding_modes = [(1,0), (2,0)]\n",
    "for crd in [vina_crd_results_1[metric], linf9_crd_results_1[metric] ]:\n",
    "    print(\" & \".join([f\"{float(crd[i][j]):0.3f}\" for i in binding_modes for j in [1,3,2]]))\n",
    "print('---')\n",
    "binding_mode = (1,1)\n",
    "for crd in [vina_crd_results_1[metric], linf9_crd_results_1[metric] ]:\n",
    "    print(\" & \".join([f\"{float(crd[binding_mode][j]):0.3f}\" for j in [1,3,2]]))\n",
    "\n",
    "print('~~~~~~~')\n",
    "binding_modes = [(1,0), (2,0)]\n",
    "for crd in [vina_crd_results_1, linf9_crd_results_1 ]:\n",
    "    print(\" & \".join([f\"{float(crd[metric][i][j]):0.2f}\" for i in binding_modes for j in [1,3,2] for metric in [\"top5_cent_dist_lt5\", \"top1_cent_dist_lt5\"]]))\n",
    "print('---')\n",
    "binding_mode = (1,1)\n",
    "for crd in [vina_crd_results_1, linf9_crd_results_1]:\n",
    "    print(\" & \".join([f\"{float(crd[metric][binding_mode][j]):0.2f}\" for j in [1,3,2] for metric in [\"top5_cent_dist_lt5\", \"top1_cent_dist_lt5\"]]))"
   ]
  },
  {
   "cell_type": "code",
   "execution_count": 31,
   "metadata": {},
   "outputs": [
    {
     "name": "stdout",
     "output_type": "stream",
     "text": [
      "0.929 & 0.667 & 0.984 & 0.873 & 0.708 & 1.000\n",
      "0.911 & 0.958 & 1.000 & 0.952 & 0.792 & 1.000\n",
      "---\n",
      "0.000 & 0.762 & 0.000\n",
      "0.089 & 0.143 & 0.000\n",
      "~~~~~~~\n",
      "0.91 & 0.84 & 0.42 & 0.33 & 0.98 & 0.97 & 0.87 & 0.86 & 0.62 & 0.50 & 1.00 & 0.95\n",
      "0.82 & 0.77 & 0.88 & 0.62 & 0.98 & 0.95 & 0.95 & 0.84 & 0.71 & 0.62 & 1.00 & 1.00\n",
      "---\n",
      "0.00 & 0.00 & 0.67 & 0.43 & 0.00 & 0.00\n",
      "0.05 & 0.02 & 0.05 & 0.05 & 0.00 & 0.00\n"
     ]
    }
   ],
   "source": [
    "vina_crd_results_1 = get_crd_results(crd_vina_1, metric_list_vina)\n",
    "linf9_crd_results_1 = get_crd_results(crd_linf9_1, metric_list_linf9)\n",
    "\n",
    "metric = \"all_cent_dist_lt5\"\n",
    "binding_modes = [(1,0), (2,0)]\n",
    "for crd in [vina_crd_results_1[metric], linf9_crd_results_1[metric] ]:\n",
    "    print(\" & \".join([f\"{float(crd[i][j]):0.3f}\" for i in binding_modes for j in [1,3,2]]))\n",
    "print('---')\n",
    "binding_mode = (1,1)\n",
    "for crd in [vina_crd_results_1[metric], linf9_crd_results_1[metric] ]:\n",
    "    print(\" & \".join([f\"{float(crd[binding_mode][j]):0.3f}\" for j in [1,3,2]]))\n",
    "\n",
    "print('~~~~~~~')\n",
    "binding_modes = [(1,0), (2,0)]\n",
    "for crd in [vina_crd_results_1, linf9_crd_results_1 ]:\n",
    "    print(\" & \".join([f\"{float(crd[metric][i][j]):0.2f}\" for i in binding_modes for j in [1,3,2] for metric in [\"top5_cent_dist_lt5\", \"top1_cent_dist_lt5\"]]))\n",
    "print('---')\n",
    "binding_mode = (1,1)\n",
    "for crd in [vina_crd_results_1, linf9_crd_results_1]:\n",
    "    print(\" & \".join([f\"{float(crd[metric][binding_mode][j]):0.2f}\" for j in [1,3,2] for metric in [\"top5_cent_dist_lt5\", \"top1_cent_dist_lt5\"]]))"
   ]
  },
  {
   "cell_type": "code",
   "execution_count": 32,
   "metadata": {},
   "outputs": [],
   "source": [
    "vina_crd_results = get_crd_results(crd_vina, metric_list_vina)\n",
    "linf9_crd_results = get_crd_results(crd_linf9, metric_list_linf9)\n",
    "dd_crd_results = get_crd_results(allo_crd_2, metric_list)\n",
    "ddS_crd_results = get_crd_results(df_S_crd, metric_list)\n",
    "ddL_crd_results = get_crd_results(df_L_crd, metric_list)\n",
    "dyn_crd_results = get_crd_results(df_dyn_crd, metric_list_dyn)\n",
    "ddLRD_crd_results= get_crd_results(allo_crd_2_LRD, metric_list)\n"
   ]
  },
  {
   "cell_type": "code",
   "execution_count": 33,
   "metadata": {},
   "outputs": [
    {
     "data": {
      "text/plain": [
       "[1, 1, 1, 1, 1, 1, 1, 1, 1, 1, 1, 1, 1, 1, 0, 1, 0, 0, 0, 0, 1]"
      ]
     },
     "execution_count": 33,
     "metadata": {},
     "output_type": "execute_result"
    }
   ],
   "source": [
    "sel = crd_vina_1[(crd_vina_1.lig_lr_label==(1,1)) & (crd_vina_1.ro_label==3)]\n",
    "sel = sel[sel['rank'] < 10]\n",
    "# sel[sel.cent_dist < 5].PDB_chain_LIG.unique()\n",
    "\n",
    "[docking_accuracy(per_rec, *metric_list_vina['all_cent_dist_lt5']) for m, per_rec in sel.groupby(\"PDB_chain_LIG\")]\n",
    "# print(len(sel[sel.cent_dist < 5].PDB_chain_LIG.unique()), len(sel.PDB_chain_LIG.unique()), len(sel[sel.cent_dist < 5].PDB_chain_LIG.unique())/len(sel.PDB_chain_LIG.unique()))"
   ]
  },
  {
   "cell_type": "code",
   "execution_count": 34,
   "metadata": {},
   "outputs": [
    {
     "data": {
      "text/plain": [
       "array([  9,  10,  37,  38,  65,  66,  67,  93,  94,  95, 121, 122, 149,\n",
       "       150, 177, 178])"
      ]
     },
     "execution_count": 34,
     "metadata": {},
     "output_type": "execute_result"
    }
   ],
   "source": [
    "sel[sel.cent_dist < 5].ind.unique()"
   ]
  },
  {
   "cell_type": "code",
   "execution_count": 35,
   "metadata": {},
   "outputs": [
    {
     "name": "stdout",
     "output_type": "stream",
     "text": [
      "4 133 0.03007518796992481\n"
     ]
    }
   ],
   "source": [
    "sel = crd_linf9[crd_linf9.lig_lr_label==(1,1)]\n",
    "sel[sel.cent_dist < 5].ind.unique()\n",
    "print(len(sel[sel.cent_dist < 5].ind.unique()), len(sel.ind.unique()), len(sel[sel.cent_dist < 5].ind.unique())/len(sel.ind.unique()))"
   ]
  },
  {
   "cell_type": "code",
   "execution_count": 36,
   "metadata": {},
   "outputs": [
    {
     "name": "stdout",
     "output_type": "stream",
     "text": [
      "cross-docking results: centroid distance < 5 A\n",
      "0.929 & 0.667 & 0.984 & 0.873 & 0.708 & 1.000\n",
      "0.911 & 0.958 & 1.000 & 0.952 & 0.792 & 1.000\n",
      "1.000 & 0.958 & 1.000 & 1.000 & 1.000 & 1.000\n",
      "1.000 & 1.000 & 1.000 & 1.000 & 1.000 & 1.000\n",
      "1.000 & 1.000 & 1.000 & 1.000 & 1.000 & 1.000\n",
      "1.000 & 1.000 & 1.000 & 1.000 & 1.000 & 1.000\n",
      "1.000 & 0.958 & 1.000 & 0.984 & 0.958 & 1.000\n",
      "---\n",
      "0.000 & 0.762 & 0.000\n",
      "0.089 & 0.143 & 0.000\n",
      "0.000 & 0.143 & 0.000\n",
      "0.000 & 0.071 & 0.000\n",
      "0.000 & 0.000 & 0.000\n",
      "0.000 & 0.000 & 0.000\n",
      "0.000 & 0.952 & 0.000\n"
     ]
    }
   ],
   "source": [
    "print(\"cross-docking results: centroid distance < 5 A\")\n",
    "\n",
    "metric = \"all_cent_dist_lt5\"\n",
    "binding_modes = [(1,0), (2,0)]\n",
    "for crd in [vina_crd_results_1[metric], linf9_crd_results_1[metric], \\\n",
    "            dd_crd_results[metric], \\\n",
    "            ddL_crd_results[metric], ddS_crd_results[metric], \\\n",
    "            dyn_crd_results[metric],\\\n",
    "            ddLRD_crd_results[metric] ]:\n",
    "    print(\" & \".join([f\"{float(crd[i][j]):0.3f}\" for i in binding_modes for j in [1,3,2]]))\n",
    "print('---')\n",
    "binding_mode = (1,1)\n",
    "for crd in [vina_crd_results_1[metric], linf9_crd_results_1[metric], \\\n",
    "            dd_crd_results[metric], \\\n",
    "            ddL_crd_results[metric], ddS_crd_results[metric], \\\n",
    "            dyn_crd_results[metric],\\\n",
    "            ddLRD_crd_results[metric] ]:\n",
    "    print(\" & \".join([f\"{float(crd[binding_mode][j]):0.3f}\" for j in [1,3,2]]))"
   ]
  },
  {
   "cell_type": "code",
   "execution_count": 37,
   "metadata": {},
   "outputs": [
    {
     "name": "stdout",
     "output_type": "stream",
     "text": [
      "ranked cross-docking results: centroid distance < 5 A\n",
      "--- orthosteric ligand --- \n",
      "0.91 & 0.84 & 0.42 & 0.33 & 0.98 & 0.97 & 0.87 & 0.86 & 0.62 & 0.50 & 1.00 & 0.95\n",
      "0.82 & 0.77 & 0.88 & 0.62 & 0.98 & 0.95 & 0.95 & 0.84 & 0.71 & 0.62 & 1.00 & 1.00\n",
      "1.00 & 1.00 & 0.96 & 0.83 & 1.00 & 1.00 & 1.00 & 1.00 & 1.00 & 0.92 & 1.00 & 1.00\n",
      "1.00 & 1.00 & 1.00 & 1.00 & 1.00 & 1.00 & 1.00 & 1.00 & 1.00 & 1.00 & 1.00 & 1.00\n",
      "1.00 & 1.00 & 1.00 & 1.00 & 1.00 & 1.00 & 1.00 & 1.00 & 1.00 & 1.00 & 1.00 & 1.00\n",
      "1.00 & 1.00 & 1.00 & 1.00 & 1.00 & 1.00 & 1.00 & 1.00 & 1.00 & 1.00 & 1.00 & 1.00\n",
      "1.00 & 0.98 & 0.88 & 0.67 & 1.00 & 0.95 & 0.97 & 0.92 & 0.96 & 0.83 & 1.00 & 1.00\n",
      "--- allosteric ligand --- \n",
      "0.00 & 0.00 & 0.67 & 0.43 & 0.00 & 0.00\n",
      "0.05 & 0.02 & 0.05 & 0.05 & 0.00 & 0.00\n",
      "0.00 & 0.00 & 0.00 & 0.00 & 0.00 & 0.00\n",
      "0.00 & 0.00 & 0.00 & 0.00 & 0.00 & 0.00\n",
      "0.00 & 0.00 & 0.00 & 0.00 & 0.00 & 0.00\n",
      "0.00 & 0.00 & 0.00 & 0.00 & 0.00 & 0.00\n",
      "0.00 & 0.00 & 0.76 & 0.33 & 0.00 & 0.00\n"
     ]
    }
   ],
   "source": [
    "print(\"ranked cross-docking results: centroid distance < 5 A\")\n",
    "\n",
    "print('--- orthosteric ligand --- ')\n",
    "binding_modes = [(1,0), (2,0)]\n",
    "for crd in [vina_crd_results_1, linf9_crd_results_1, \\\n",
    "            dd_crd_results, \\\n",
    "            ddL_crd_results, ddS_crd_results, \\\n",
    "            dyn_crd_results,\\\n",
    "            ddLRD_crd_results ]:\n",
    "    print(\" & \".join([f\"{float(crd[metric][i][j]):0.2f}\" for i in binding_modes for j in [1,3,2] for metric in [\"top5_cent_dist_lt5\", \"top1_cent_dist_lt5\"]]))\n",
    "print('--- allosteric ligand --- ')\n",
    "binding_mode = (1,1)\n",
    "for crd in [vina_crd_results_1, linf9_crd_results_1, \\\n",
    "            dd_crd_results, \\\n",
    "            ddL_crd_results, ddS_crd_results, \\\n",
    "            dyn_crd_results,\\\n",
    "            ddLRD_crd_results ]:\n",
    "    print(\" & \".join([f\"{float(crd[metric][binding_mode][j]):0.2f}\" for j in [1,3,2] for metric in [\"top5_cent_dist_lt5\", \"top1_cent_dist_lt5\"]]))"
   ]
  },
  {
   "cell_type": "code",
   "execution_count": 38,
   "metadata": {},
   "outputs": [
    {
     "name": "stdout",
     "output_type": "stream",
     "text": [
      "all_RMSD_lt2\n",
      "0.25 & 0.04 & 0.27 & 0.17 & 0.21 & 0.32\n",
      "0.12 & 0.04 & 0.17 & 0.21 & 0.21 & 0.36\n",
      "0.96 & 0.54 & 0.82 & 0.82 & 0.62 & 0.95\n",
      "0.88 & 0.44 & 0.81 & 0.77 & 0.43 & 1.00\n",
      "0.91 & 0.44 & 0.79 & 0.95 & 0.57 & 1.00\n",
      "0.75 & 0.75 & 0.81 & 0.77 & 0.79 & 1.00\n",
      "0.20 & 0.00 & 0.14 & 0.03 & 0.08 & 0.20\n",
      "---\n",
      "0.00 & 0.00 & 0.00\n",
      "0.00 & 0.00 & 0.00\n",
      "0.00 & 0.00 & 0.00\n",
      "0.00 & 0.00 & 0.00\n",
      "0.00 & 0.00 & 0.00\n",
      "0.00 & 0.00 & 0.00\n",
      "0.00 & 0.00 & 0.00\n"
     ]
    }
   ],
   "source": [
    "metric = \"all_RMSD_lt2\"\n",
    "print(metric)\n",
    "binding_modes = [(1,0), (2,0)]\n",
    "for crd in [vina_crd_results_1[metric], linf9_crd_results_1[metric], \\\n",
    "            dd_crd_results[metric], \\\n",
    "            ddL_crd_results[metric], ddS_crd_results[metric], \\\n",
    "            dyn_crd_results[metric],\\\n",
    "            ddLRD_crd_results[metric] ]:\n",
    "    print(\" & \".join([f\"{float(crd[i][j]):0.2f}\" for i in binding_modes for j in [1,3,2]]))\n",
    "print('---')\n",
    "binding_mode = (1,1)\n",
    "for crd in [vina_crd_results_1[metric], linf9_crd_results_1[metric], \\\n",
    "            dd_crd_results[metric], \\\n",
    "            ddL_crd_results[metric], ddS_crd_results[metric], \\\n",
    "            dyn_crd_results[metric],\\\n",
    "            ddLRD_crd_results[metric] ]:\n",
    "    print(\" & \".join([f\"{float(crd[binding_mode][j]):0.2f}\" for j in [1,3,2]]))"
   ]
  }
 ],
 "metadata": {
  "kernelspec": {
   "display_name": "dist_analy.py.3.9",
   "language": "python",
   "name": "python3"
  },
  "language_info": {
   "codemirror_mode": {
    "name": "ipython",
    "version": 3
   },
   "file_extension": ".py",
   "mimetype": "text/x-python",
   "name": "python",
   "nbconvert_exporter": "python",
   "pygments_lexer": "ipython3",
   "version": "3.9.21"
  }
 },
 "nbformat": 4,
 "nbformat_minor": 2
}
